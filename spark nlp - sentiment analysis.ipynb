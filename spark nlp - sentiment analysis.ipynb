{
 "cells": [
  {
   "cell_type": "markdown",
   "id": "e7e14e1f",
   "metadata": {},
   "source": [
    "# sentiment analysis \n",
    "\n",
    "Sentiment analysis is contextual mining of text which identifies and extracts subjective information in source material, and helping a business to understand the social sentiment of their brand, product or service while monitoring online conversations. "
   ]
  },
  {
   "cell_type": "markdown",
   "id": "05fbd038",
   "metadata": {},
   "source": [
    "Importing necessary packages"
   ]
  },
  {
   "cell_type": "code",
   "execution_count": 1,
   "id": "7aaf19d9",
   "metadata": {},
   "outputs": [],
   "source": [
    "import sparknlp\n",
    "from sparknlp.base import *\n",
    "from sparknlp.annotator import *\n",
    "from pyspark.ml import Pipeline"
   ]
  },
  {
   "cell_type": "markdown",
   "id": "d932451d",
   "metadata": {},
   "source": [
    "start the session"
   ]
  },
  {
   "cell_type": "code",
   "execution_count": 2,
   "id": "72d577d0",
   "metadata": {},
   "outputs": [
    {
     "name": "stderr",
     "output_type": "stream",
     "text": [
      "22/03/21 15:46:29 WARN Utils: Your hostname, suvetha resolves to a loopback address: 127.0.1.1; using 192.168.0.231 instead (on interface wlo1)\n",
      "22/03/21 15:46:29 WARN Utils: Set SPARK_LOCAL_IP if you need to bind to another address\n"
     ]
    },
    {
     "name": "stdout",
     "output_type": "stream",
     "text": [
      ":: loading settings :: url = jar:file:/home/suvetha/anaconda3/lib/python3.8/site-packages/pyspark/jars/ivy-2.4.0.jar!/org/apache/ivy/core/settings/ivysettings.xml\n"
     ]
    },
    {
     "name": "stderr",
     "output_type": "stream",
     "text": [
      "Ivy Default Cache set to: /home/suvetha/.ivy2/cache\n",
      "The jars for the packages stored in: /home/suvetha/.ivy2/jars\n",
      "com.johnsnowlabs.nlp#spark-nlp_2.12 added as a dependency\n",
      ":: resolving dependencies :: org.apache.spark#spark-submit-parent-96d63249-d03d-487f-95b9-dafb03eff4da;1.0\n",
      "\tconfs: [default]\n",
      "\tfound com.johnsnowlabs.nlp#spark-nlp_2.12;3.4.2 in central\n",
      "\tfound com.typesafe#config;1.4.1 in central\n",
      "\tfound org.rocksdb#rocksdbjni;6.5.3 in central\n",
      "\tfound com.amazonaws#aws-java-sdk-bundle;1.11.603 in central\n",
      "\tfound com.github.universal-automata#liblevenshtein;3.0.0 in central\n",
      "\tfound com.google.code.findbugs#annotations;3.0.1 in central\n",
      "\tfound net.jcip#jcip-annotations;1.0 in central\n",
      "\tfound com.google.code.findbugs#jsr305;3.0.1 in central\n",
      "\tfound com.google.protobuf#protobuf-java-util;3.0.0-beta-3 in central\n",
      "\tfound com.google.protobuf#protobuf-java;3.0.0-beta-3 in central\n",
      "\tfound com.google.code.gson#gson;2.3 in central\n",
      "\tfound it.unimi.dsi#fastutil;7.0.12 in central\n",
      "\tfound org.projectlombok#lombok;1.16.8 in central\n",
      "\tfound org.slf4j#slf4j-api;1.7.21 in central\n",
      "\tfound com.navigamez#greex;1.0 in central\n",
      "\tfound dk.brics.automaton#automaton;1.11-8 in central\n",
      "\tfound org.json4s#json4s-ext_2.12;3.5.3 in central\n",
      "\tfound joda-time#joda-time;2.9.5 in central\n",
      "\tfound org.joda#joda-convert;1.8.1 in central\n",
      "\tfound com.johnsnowlabs.nlp#tensorflow-cpu_2.12;0.3.3 in central\n",
      "\tfound net.sf.trove4j#trove4j;3.0.3 in central\n",
      ":: resolution report :: resolve 874ms :: artifacts dl 29ms\n",
      "\t:: modules in use:\n",
      "\tcom.amazonaws#aws-java-sdk-bundle;1.11.603 from central in [default]\n",
      "\tcom.github.universal-automata#liblevenshtein;3.0.0 from central in [default]\n",
      "\tcom.google.code.findbugs#annotations;3.0.1 from central in [default]\n",
      "\tcom.google.code.findbugs#jsr305;3.0.1 from central in [default]\n",
      "\tcom.google.code.gson#gson;2.3 from central in [default]\n",
      "\tcom.google.protobuf#protobuf-java;3.0.0-beta-3 from central in [default]\n",
      "\tcom.google.protobuf#protobuf-java-util;3.0.0-beta-3 from central in [default]\n",
      "\tcom.johnsnowlabs.nlp#spark-nlp_2.12;3.4.2 from central in [default]\n",
      "\tcom.johnsnowlabs.nlp#tensorflow-cpu_2.12;0.3.3 from central in [default]\n",
      "\tcom.navigamez#greex;1.0 from central in [default]\n",
      "\tcom.typesafe#config;1.4.1 from central in [default]\n",
      "\tdk.brics.automaton#automaton;1.11-8 from central in [default]\n",
      "\tit.unimi.dsi#fastutil;7.0.12 from central in [default]\n",
      "\tjoda-time#joda-time;2.9.5 from central in [default]\n",
      "\tnet.jcip#jcip-annotations;1.0 from central in [default]\n",
      "\tnet.sf.trove4j#trove4j;3.0.3 from central in [default]\n",
      "\torg.joda#joda-convert;1.8.1 from central in [default]\n",
      "\torg.json4s#json4s-ext_2.12;3.5.3 from central in [default]\n",
      "\torg.projectlombok#lombok;1.16.8 from central in [default]\n",
      "\torg.rocksdb#rocksdbjni;6.5.3 from central in [default]\n",
      "\torg.slf4j#slf4j-api;1.7.21 from central in [default]\n",
      "\t---------------------------------------------------------------------\n",
      "\t|                  |            modules            ||   artifacts   |\n",
      "\t|       conf       | number| search|dwnlded|evicted|| number|dwnlded|\n",
      "\t---------------------------------------------------------------------\n",
      "\t|      default     |   21  |   0   |   0   |   0   ||   21  |   0   |\n",
      "\t---------------------------------------------------------------------\n",
      ":: retrieving :: org.apache.spark#spark-submit-parent-96d63249-d03d-487f-95b9-dafb03eff4da\n",
      "\tconfs: [default]\n",
      "\t0 artifacts copied, 21 already retrieved (0kB/24ms)\n",
      "22/03/21 15:46:31 WARN NativeCodeLoader: Unable to load native-hadoop library for your platform... using builtin-java classes where applicable\n",
      "Using Spark's default log4j profile: org/apache/spark/log4j-defaults.properties\n",
      "Setting default log level to \"WARN\".\n",
      "To adjust logging level use sc.setLogLevel(newLevel). For SparkR, use setLogLevel(newLevel).\n"
     ]
    }
   ],
   "source": [
    "from pyspark.context import SparkContext\n",
    "from pyspark.sql.session import SparkSession\n",
    "spark = sparknlp.start()\n",
    "spark.sparkContext.setLogLevel(\"ERROR\")"
   ]
  },
  {
   "cell_type": "markdown",
   "id": "79d934cc",
   "metadata": {},
   "source": [
    "preparing data into a format"
   ]
  },
  {
   "cell_type": "code",
   "execution_count": 3,
   "id": "49875216",
   "metadata": {},
   "outputs": [],
   "source": [
    "documentAssembler = DocumentAssembler() \\\n",
    "     .setInputCol(\"text\") \\\n",
    "     .setOutputCol(\"document\") #assembling the data into the specified data"
   ]
  },
  {
   "cell_type": "code",
   "execution_count": 4,
   "id": "5e666c54",
   "metadata": {},
   "outputs": [
    {
     "name": "stdout",
     "output_type": "stream",
     "text": [
      "tfhub_use download started this may take some time.\n",
      "Approximate size to download 923.7 MB\n",
      "[ — ]tfhub_use download started this may take some time.\n",
      "Approximate size to download 923.7 MB\n",
      "[ | ]Download done! Loading the resource.\n",
      "[ / ]"
     ]
    },
    {
     "name": "stderr",
     "output_type": "stream",
     "text": [
      "\r",
      "[Stage 0:>                                                          (0 + 1) / 1]\r",
      "\r",
      "                                                                                \r"
     ]
    },
    {
     "name": "stdout",
     "output_type": "stream",
     "text": [
      "[ \\ ]"
     ]
    },
    {
     "name": "stderr",
     "output_type": "stream",
     "text": [
      "2022-03-21 15:47:19.607734: I external/org_tensorflow/tensorflow/core/platform/cpu_feature_guard.cc:142] This TensorFlow binary is optimized with oneAPI Deep Neural Network Library (oneDNN) to use the following CPU instructions in performance-critical operations:  AVX2 FMA\n",
      "To enable them in other operations, rebuild TensorFlow with the appropriate compiler flags.\n",
      "2022-03-21 15:47:20.003827: I external/org_tensorflow/tensorflow/core/platform/profile_utils/cpu_utils.cc:112] CPU Frequency: 2294585000 Hz\n"
     ]
    },
    {
     "name": "stdout",
     "output_type": "stream",
     "text": [
      "[OK!]\n"
     ]
    }
   ],
   "source": [
    "useEmbeddings = UniversalSentenceEncoder.pretrained() \\\n",
    "     .setInputCols([\"document\"]) \\\n",
    "     .setOutputCol(\"sentence_embeddings\") #encodes text into high-dimensional vectors that can be used for text classification, semantic similarity, clustering and other natural language tasks"
   ]
  },
  {
   "cell_type": "code",
   "execution_count": 5,
   "id": "0eec6020",
   "metadata": {},
   "outputs": [
    {
     "name": "stdout",
     "output_type": "stream",
     "text": [
      "sentimentdl_use_twitter download started this may take some time.\n",
      "Approximate size to download 11.4 MB\n",
      "[ \\ ]sentimentdl_use_twitter download started this may take some time.\n",
      "Approximate size to download 11.4 MB\n",
      "[ | ]Download done! Loading the resource.\n",
      "[OK!]\n"
     ]
    }
   ],
   "source": [
    "sentiment = SentimentDLModel.pretrained(\"sentimentdl_use_twitter\") \\\n",
    "    .setInputCols([\"sentence_embeddings\"]) \\\n",
    "    .setThreshold(0.7) \\\n",
    "    .setOutputCol(\"sentiment\") #an annotator for multi-class sentiment analysis"
   ]
  },
  {
   "cell_type": "markdown",
   "id": "8d5c3d61",
   "metadata": {},
   "source": [
    "setting the pipeline"
   ]
  },
  {
   "cell_type": "code",
   "execution_count": 6,
   "id": "9729dbe7",
   "metadata": {},
   "outputs": [],
   "source": [
    "pipeline = Pipeline().setStages([\n",
    "    documentAssembler,\n",
    "    useEmbeddings,\n",
    "    sentiment\n",
    "])        #setting all the datas into a pipeline model"
   ]
  },
  {
   "cell_type": "markdown",
   "id": "7c0a7696",
   "metadata": {},
   "source": [
    "creating the dataframe"
   ]
  },
  {
   "cell_type": "code",
   "execution_count": 7,
   "id": "96daa372",
   "metadata": {},
   "outputs": [],
   "source": [
    "data = spark.createDataFrame([\n",
    "    [\"Wow, the new video is awesome!\"],\n",
    "    [\"bruh what a damn waste of time\"],\n",
    "    [\"It feels like empty\"],\n",
    "    [\"Its ok to not to be okay\"],\n",
    "    [\"am i happy or sad?\"],\n",
    "    [\"hakunamatata\"],\n",
    "    [\"i cant imagine what is going in my life\"],\n",
    "    [\"good morning\"],\n",
    "    [\"good and bad\"]\n",
    "]).toDF(\"text\")   #dataset"
   ]
  },
  {
   "cell_type": "markdown",
   "id": "287c17b3",
   "metadata": {},
   "source": [
    "fitting the pipeline"
   ]
  },
  {
   "cell_type": "code",
   "execution_count": 8,
   "id": "c44f832c",
   "metadata": {},
   "outputs": [
    {
     "name": "stderr",
     "output_type": "stream",
     "text": [
      "                                                                                \r"
     ]
    },
    {
     "name": "stdout",
     "output_type": "stream",
     "text": [
      "+---------------------------------------+----------+\n",
      "|text                                   |result    |\n",
      "+---------------------------------------+----------+\n",
      "|Wow, the new video is awesome!         |[positive]|\n",
      "|bruh what a damn waste of time         |[negative]|\n",
      "|It feels like empty                    |[negative]|\n",
      "|Its ok to not to be okay               |[positive]|\n",
      "|am i happy or sad?                     |[negative]|\n",
      "|hakunamatata                           |[neutral] |\n",
      "|i cant imagine what is going in my life|[negative]|\n",
      "|good morning                           |[positive]|\n",
      "|good and bad                           |[neutral] |\n",
      "+---------------------------------------+----------+\n",
      "\n"
     ]
    }
   ],
   "source": [
    "result = pipeline.fit(data).transform(data) #fitting to train and transform to change the data into uniform data\n",
    "result.select(\"text\", \"sentiment.result\").show(truncate=False)   #printing the sentiment result"
   ]
  },
  {
   "cell_type": "code",
   "execution_count": null,
   "id": "1b7c48a6",
   "metadata": {},
   "outputs": [],
   "source": []
  }
 ],
 "metadata": {
  "kernelspec": {
   "display_name": "Python 3 (ipykernel)",
   "language": "python",
   "name": "python3"
  },
  "language_info": {
   "codemirror_mode": {
    "name": "ipython",
    "version": 3
   },
   "file_extension": ".py",
   "mimetype": "text/x-python",
   "name": "python",
   "nbconvert_exporter": "python",
   "pygments_lexer": "ipython3",
   "version": "3.8.12"
  }
 },
 "nbformat": 4,
 "nbformat_minor": 5
}
